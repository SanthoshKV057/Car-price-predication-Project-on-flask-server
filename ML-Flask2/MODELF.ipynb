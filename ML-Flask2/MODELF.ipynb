{
 "cells": [
  {
   "cell_type": "code",
   "execution_count": 1,
   "id": "ba66effa",
   "metadata": {},
   "outputs": [
    {
     "name": "stdout",
     "output_type": "stream",
     "text": [
      "3.14\n"
     ]
    }
   ],
   "source": [
    "import pandas as pd\n",
    "import numpy as np\n",
    "from sklearn import linear_model\n",
    "from sklearn.preprocessing import LabelEncoder\n",
    "import pickle\n",
    "\n",
    "# load the dataset\n",
    "df = pd.read_csv('D:\\PROJECTS EDIT\\ML-Flask\\car_data.csv')\n",
    "\n",
    "# drop unnecessary columns and encode categorical features\n",
    "inputs = df.drop(['Car_Name','Seller_Type'], axis='columns')\n",
    "Numerics = LabelEncoder()\n",
    "inputs['Fuel_Type_n'] = Numerics.fit_transform(inputs['Fuel_Type'])\n",
    "inputs['Transmission_n'] = Numerics.fit_transform(inputs['Transmission'])\n",
    "\n",
    "# create input and target variables as NumPy arrays\n",
    "x = inputs.drop(['Fuel_Type', 'Transmission', 'Selling_Price'], axis='columns').to_numpy()\n",
    "y = df['Selling_Price'].to_numpy()\n",
    "\n",
    "# create and fit the linear regression model\n",
    "model = linear_model.LinearRegression()\n",
    "model.fit(x, y)\n",
    "\n",
    "# make a prediction\n",
    "pred = model.predict([[2014, 5, 27000, 0, 2, 1]])\n",
    "print(round(pred[0], 2))\n",
    "\n",
    "\n"
   ]
  },
  {
   "cell_type": "code",
   "execution_count": 2,
   "id": "0a98a99b",
   "metadata": {
    "scrolled": true
   },
   "outputs": [
    {
     "name": "stdout",
     "output_type": "stream",
     "text": [
      "23803\n"
     ]
    }
   ],
   "source": [
    "\n",
    "import pickle\n",
    "pickle.dump(model,open('model.pkl','wb'))\n",
    "pickle.load(open('model.pkl','rb'))\n",
    "print(int(model.predict([[2014,50000,59,1,1,2]])) )"
   ]
  },
  {
   "cell_type": "code",
   "execution_count": null,
   "id": "16e2124a",
   "metadata": {},
   "outputs": [],
   "source": []
  },
  {
   "cell_type": "code",
   "execution_count": null,
   "id": "42d529a6",
   "metadata": {},
   "outputs": [],
   "source": []
  }
 ],
 "metadata": {
  "kernelspec": {
   "display_name": "Python 3 (ipykernel)",
   "language": "python",
   "name": "python3"
  },
  "language_info": {
   "codemirror_mode": {
    "name": "ipython",
    "version": 3
   },
   "file_extension": ".py",
   "mimetype": "text/x-python",
   "name": "python",
   "nbconvert_exporter": "python",
   "pygments_lexer": "ipython3",
   "version": "3.9.12"
  }
 },
 "nbformat": 4,
 "nbformat_minor": 5
}
